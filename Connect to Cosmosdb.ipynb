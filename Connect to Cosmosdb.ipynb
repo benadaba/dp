{
  "cells": [
    {
      "cell_type": "code",
      "source": [
        "import azure.cosmos\r\n",
        "from azure.cosmos.partition_key import PartitionKey\r\n"
      ],
      "outputs": [],
      "execution_count": null,
      "metadata": {
        "collapsed": true,
        "execution": {
          "iopub.execute_input": "2021-01-27T13:57:03.666Z",
          "iopub.status.busy": "2021-02-10T11:34:35.685Z",
          "iopub.status.idle": "2021-01-27T13:57:03.674Z",
          "shell.execute_reply": "2021-01-27T13:57:03.678Z"
        },
        "jupyter": {
          "outputs_hidden": false,
          "source_hidden": false
        },
        "nteract": {
          "transient": {
            "deleting": false
          }
        },
        "trusted": false
      }
    },
    {
      "cell_type": "code",
      "source": [
        "%database cosmosdbdatabase"
      ],
      "outputs": [],
      "execution_count": null,
      "metadata": {
        "collapsed": true,
        "execution": {
          "iopub.status.busy": "2021-02-10T11:34:35.720Z",
          "iopub.status.idle": "2021-02-10T11:34:35.733Z",
          "shell.execute_reply": "2021-02-10T11:34:35.738Z"
        },
        "jupyter": {
          "outputs_hidden": false,
          "source_hidden": false
        },
        "nteract": {
          "transient": {
            "deleting": false
          }
        },
        "trusted": false
      }
    },
    {
      "cell_type": "code",
      "source": [
        "%container cosmosdbcontainerid\r\n"
      ],
      "outputs": [],
      "execution_count": null,
      "metadata": {
        "collapsed": true,
        "execution": {
          "iopub.status.busy": "2021-02-10T11:34:35.749Z",
          "iopub.status.idle": "2021-02-10T11:34:35.759Z",
          "shell.execute_reply": "2021-02-10T11:34:35.764Z"
        },
        "jupyter": {
          "outputs_hidden": false,
          "source_hidden": false
        },
        "nteract": {
          "transient": {
            "deleting": false
          }
        },
        "trusted": false
      }
    },
    {
      "cell_type": "code",
      "source": [
        "%%sql\r\n",
        "SELECT * FROM c where c.category = \"Business\""
      ],
      "outputs": [],
      "execution_count": null,
      "metadata": {
        "collapsed": true,
        "execution": {
          "iopub.execute_input": "2021-01-27T14:00:55.543Z",
          "iopub.status.busy": "2021-02-10T11:34:35.773Z",
          "iopub.status.idle": "2021-02-10T11:34:36.966Z",
          "shell.execute_reply": "2021-02-10T11:34:36.971Z"
        },
        "jupyter": {
          "outputs_hidden": false,
          "source_hidden": false
        },
        "nteract": {
          "transient": {
            "deleting": false
          }
        },
        "trusted": false
      }
    },
    {
      "cell_type": "code",
      "source": [
        "%%sql\n",
        "SELECT * FROM c"
      ],
      "outputs": [],
      "execution_count": null,
      "metadata": {
        "collapsed": true,
        "jupyter": {
          "source_hidden": false,
          "outputs_hidden": false
        },
        "nteract": {
          "transient": {
            "deleting": false
          }
        }
      }
    },
    {
      "cell_type": "markdown",
      "source": [],
      "metadata": {
        "nteract": {
          "transient": {
            "deleting": false
          }
        }
      }
    }
  ],
  "metadata": {
    "language_info": {
      "name": "python",
      "version": "3.7",
      "mimetype": "application/json",
      "file_extension": "ipynb"
    },
    "nteract": {
      "version": "dataExplorer 1.0"
    }
  },
  "nbformat": 4,
  "nbformat_minor": 4
}