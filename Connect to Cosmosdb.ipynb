{
  "cells": [
    {
      "cell_type": "code",
      "execution_count": 1,
      "metadata": {
        "collapsed": true,
        "execution": {
          "iopub.execute_input": "2021-01-27T13:57:03.666Z",
          "iopub.status.busy": "2021-01-27T13:57:03.644Z",
          "iopub.status.idle": "2021-01-27T13:57:03.674Z",
          "shell.execute_reply": "2021-01-27T13:57:03.678Z"
        },
        "jupyter": {
          "outputs_hidden": false,
          "source_hidden": false
        },
        "nteract": {
          "transient": {
            "deleting": false
          }
        },
        "trusted": false
      },
      "outputs": [],
      "source": "import azure.cosmos\r\nfrom azure.cosmos.partition_key import PartitionKey\r\n"
    },
    {
      "cell_type": "code",
      "execution_count": 6,
      "metadata": {
        "collapsed": true,
        "execution": {
          "iopub.status.busy": "2021-01-27T13:59:39.863Z",
          "iopub.status.idle": "2021-01-27T13:59:39.874Z",
          "shell.execute_reply": "2021-01-27T13:59:39.879Z"
        },
        "jupyter": {
          "outputs_hidden": false,
          "source_hidden": false
        },
        "nteract": {
          "transient": {
            "deleting": false
          }
        },
        "trusted": false
      },
      "outputs": [],
      "source": "%database cosmosdbdatabase"
    },
    {
      "cell_type": "code",
      "execution_count": 10,
      "metadata": {
        "collapsed": true,
        "execution": {
          "iopub.status.busy": "2021-01-27T14:00:52.507Z",
          "iopub.status.idle": "2021-01-27T14:00:52.515Z",
          "shell.execute_reply": "2021-01-27T14:00:52.521Z"
        },
        "jupyter": {
          "outputs_hidden": false,
          "source_hidden": false
        },
        "nteract": {
          "transient": {
            "deleting": false
          }
        },
        "trusted": false
      },
      "outputs": [],
      "source": "%container cosmosdbcontainerid\r\n"
    },
    {
      "cell_type": "code",
      "execution_count": 2,
      "metadata": {
        "collapsed": true,
        "execution": {
          "iopub.execute_input": "2021-01-27T14:00:55.543Z",
          "iopub.status.busy": "2021-01-27T14:00:55.538Z",
          "iopub.status.idle": "2021-01-27T14:00:55.601Z",
          "shell.execute_reply": "2021-01-27T14:00:55.603Z"
        },
        "jupyter": {
          "outputs_hidden": false,
          "source_hidden": false
        },
        "nteract": {
          "transient": {
            "deleting": false
          }
        },
        "trusted": false
      },
      "outputs": [
        {
          "data": {
            "text/html": "\r\n<div>\r\n  <style type='text/css' scoped>\r\n.collapsible {\r\n  background-color: #fff;\r\n  color: #0078D4;\r\n  cursor: pointer;\r\n  padding: 10px;\r\n  border: none;\r\n  text-align: left;\r\n  outline: none;\r\n  font-size: 15px;\r\n  border-radius: 5px;\r\n  margin: 5px\r\n}\r\n\r\n.active, .collapsible:hover {\r\n  color: #4db2ff;\r\n}\r\n\r\n.content {\r\n  margin: 2px;\r\n  padding: 0 18px;\r\n  overflow: hidden;\r\n  background-color: #fff;\r\n  height: 0px;\r\n  -moz-transition: height .2s ease-out;\r\n  -ms-transition: height .2s ease-out;\r\n  -o-transition: height .2s ease-out;\r\n  -webkit-transition: height .2s ease-out;\r\n  transition: height .2s ease-out;\r\n}\r\n</style>\r\n\r\n<button type='button' class='collapsible'>▶ View Query Metrics</button>\r\n  \r\n<div class='content'>\r\n  <div class='measuringWrapper'>\r\n    <span style=\"color:#0078D4\"><b>totalExecutionTimeInMs    </b>:    0.24<br/><b>queryCompileTimeInMs    </b>:    0.04<br/><b>queryLogicalPlanBuildTimeInMs    </b>:    0.01<br/><b>queryPhysicalPlanBuildTimeInMs    </b>:    0.02<br/><b>queryOptimizationTimeInMs    </b>:    0<br/><b>VMExecutionTimeInMs    </b>:    0.03<br/><b>indexLookupTimeInMs    </b>:    0<br/><b>documentLoadTimeInMs    </b>:    0.02<br/><b>systemFunctionExecuteTimeInMs    </b>:    0<br/><b>userFunctionExecuteTimeInMs    </b>:    0<br/><b>retrievedDocumentCount    </b>:    2<br/><b>retrievedDocumentSize    </b>:    647<br/><b>outputDocumentCount    </b>:    2<br/><b>outputDocumentSize    </b>:    697<br/><b>writeOutputTimeInMs    </b>:    0<br/><b>averageIndexUtilizationRation    </b>:    1<br/></span>\r\n  </div>\r\n</div>\r\n\r\n<script>\r\nvar coll = document.getElementsByClassName('collapsible');\r\nvar i;\r\n\r\nfor (i = 0; i < coll.length; i++) {\r\n  \r\n  coll[i].addEventListener('click', function() {\r\n    this.classList.toggle('active');\r\n    var content = this.nextElementSibling;\r\n    \r\n    if (content.clientHeight != 0) {\r\n      this.textContent = '▶ View Query Metrics';\r\n      content.style.height = '0px';\r\n    }\r\n    else {\r\n      this.textContent = '▼ Hide Query Metrics';\r\n      content.style.height = content.children[0].clientHeight + 'px';\r\n    }\r\n  });\r\n}\r\n</script>\r\n</div>"
          },
          "metadata": {},
          "output_type": "display_data"
        },
        {
          "data": {
            "text/html": "<div>\n<style scoped>\n    .dataframe tbody tr th:only-of-type {\n        vertical-align: middle;\n    }\n\n    .dataframe tbody tr th {\n        vertical-align: top;\n    }\n\n    .dataframe thead th {\n        text-align: right;\n    }\n</style>\n<table border=\"1\" class=\"dataframe\">\n  <thead>\n    <tr style=\"text-align: right;\">\n      <th></th>\n      <th>id</th>\n      <th>category</th>\n      <th>name</th>\n      <th>description</th>\n      <th>isComplete</th>\n      <th>_rid</th>\n      <th>_self</th>\n      <th>_etag</th>\n      <th>_attachments</th>\n      <th>_ts</th>\n    </tr>\n  </thead>\n  <tbody>\n    <tr>\n      <th>0</th>\n      <td>1</td>\n      <td>business</td>\n      <td>reminder</td>\n      <td>Set up Meeting with Tom</td>\n      <td>False</td>\n      <td>J3gnAM9Z--UDAAAAAAAAAA==</td>\n      <td>dbs/J3gnAA==/colls/J3gnAM9Z--U=/docs/J3gnAM9Z-...</td>\n      <td>\"ed00cdcc-0000-1100-0000-601053930000\"</td>\n      <td>attachments/</td>\n      <td>1611682707</td>\n    </tr>\n    <tr>\n      <th>1</th>\n      <td>2</td>\n      <td>personal</td>\n      <td>groceries</td>\n      <td>pick up some grocerie items</td>\n      <td>False</td>\n      <td>J3gnAM9Z--UEAAAAAAAAAA==</td>\n      <td>dbs/J3gnAA==/colls/J3gnAM9Z--U=/docs/J3gnAM9Z-...</td>\n      <td>\"ed0066cf-0000-1100-0000-601053bb0000\"</td>\n      <td>attachments/</td>\n      <td>1611682747</td>\n    </tr>\n  </tbody>\n</table>\n</div>",
            "text/plain": "  id  category       name                  description  isComplete  \\\n0  1  business   reminder      Set up Meeting with Tom       False   \n1  2  personal  groceries  pick up some grocerie items       False   \n\n                       _rid  \\\n0  J3gnAM9Z--UDAAAAAAAAAA==   \n1  J3gnAM9Z--UEAAAAAAAAAA==   \n\n                                               _self  \\\n0  dbs/J3gnAA==/colls/J3gnAM9Z--U=/docs/J3gnAM9Z-...   \n1  dbs/J3gnAA==/colls/J3gnAM9Z--U=/docs/J3gnAM9Z-...   \n\n                                    _etag  _attachments         _ts  \n0  \"ed00cdcc-0000-1100-0000-601053930000\"  attachments/  1611682707  \n1  \"ed0066cf-0000-1100-0000-601053bb0000\"  attachments/  1611682747  "
          },
          "metadata": {},
          "output_type": "display_data"
        }
      ],
      "source": "%%sql\r\nSELECT * FROM c"
    }
  ],
  "metadata": {
    "language_info": {
      "file_extension": "ipynb",
      "mimetype": "application/json",
      "name": "python",
      "version": "3.7"
    },
    "nteract": {
      "version": "dataExplorer 1.0"
    }
  },
  "nbformat": 4,
  "nbformat_minor": 4
}